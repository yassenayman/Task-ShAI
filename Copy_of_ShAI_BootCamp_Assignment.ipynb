{
  "nbformat": 4,
  "nbformat_minor": 0,
  "metadata": {
    "colab": {
      "provenance": [],
      "include_colab_link": true
    },
    "kernelspec": {
      "name": "python3",
      "display_name": "Python 3"
    },
    "language_info": {
      "name": "python"
    }
  },
  "cells": [
    {
      "cell_type": "markdown",
      "metadata": {
        "id": "view-in-github",
        "colab_type": "text"
      },
      "source": [
        "<a href=\"https://colab.research.google.com/github/yassenayman/task-3-for-sparks/blob/main/Copy_of_ShAI_BootCamp_Assignment.ipynb\" target=\"_parent\"><img src=\"https://colab.research.google.com/assets/colab-badge.svg\" alt=\"Open In Colab\"/></a>"
      ]
    },
    {
      "cell_type": "markdown",
      "source": [
        "#About Dataset\n",
        "salaries dataset generally provides information about the employees of an organization in **relation** to their compensation. It typically includes details such as how much each employee is paid (their salary), their job titles, the departments they work in, and possibly additional information like their level of experience, education, and employment history within the organization. **bold text**"
      ],
      "metadata": {
        "id": "9veqgG-LVKd3"
      }
    },
    {
      "cell_type": "markdown",
      "source": [
        "# Features\n",
        "- 'Id'\n",
        "- 'EmployeeName'\n",
        "- 'JobTitle'\n",
        "- 'BasePay'\n",
        "- 'OvertimePay'\n",
        "- 'OtherPay'\n",
        "- 'Benefits'\n",
        "- 'TotalPay' -> salary\n",
        "- 'TotalPayBenefits'\n",
        "- 'Year'\n",
        "- 'Notes'\n",
        "- 'Agency'\n",
        "- 'Status'\n"
      ],
      "metadata": {
        "id": "cZwHdpBfVzOh"
      }
    },
    {
      "cell_type": "markdown",
      "source": [
        "# Tasks\n",
        "\n",
        "1. **Basic Data Exploration**: Identify the number of rows and columns in the dataset, determine the data types of each column, and check for missing values in each column.\n",
        "**bold text**\n",
        "2. **Descriptive Statistics**: Calculate basic statistics mean, median, mode, minimum, and maximum salary, determine the range of salaries, and find the standard deviation.\n",
        "\n",
        "3. **Data Cleaning**: Handle missing data by suitable method with explain why you use it.\n",
        "\n",
        "4. **Basic Data Visualization**: Create histograms or bar charts to visualize the distribution of salaries, and use pie charts to represent the proportion of employees in different departments.\n",
        "\n",
        "5. **Grouped Analysis**: Group the data by one or more columns and calculate summary statistics for each group, and compare the average salaries across different groups.\n",
        "\n",
        "6. **Simple Correlation Analysis**: Identify any correlation between salary and another numerical column, and plot a scatter plot to visualize the relationship.\n",
        "\n",
        "8. **Summary of Insights**: Write a brief report summarizing the findings and insights from the analyses."
      ],
      "metadata": {
        "id": "X1VJposzVrSF"
      }
    },
    {
      "cell_type": "markdown",
      "source": [
        "# Very Important Note\n",
        "There is no fixed or singular solution for this assignment, so if anything is not clear, please do what you understand and provide an explanation."
      ],
      "metadata": {
        "id": "8_rNdHiGUT6A"
      }
    },
    {
      "cell_type": "code",
      "source": [
        "import pandas as pd\n",
        "import numpy as np\n",
        "import matplotlib.pyplot as plt\n",
        "\n",
        "# Load your dataset\n",
        "df = pd.read_csv('/content/Salaries.csv')\n",
        "df.head()\n"
      ],
      "metadata": {
        "colab": {
          "base_uri": "https://localhost:8080/",
          "height": 467
        },
        "id": "KmZfk5xkXI2y",
        "outputId": "2c524997-9a86-4827-80dc-42584cca2075"
      },
      "execution_count": 1,
      "outputs": [
        {
          "output_type": "execute_result",
          "data": {
            "text/plain": [
              "   Id       EmployeeName                                        JobTitle  \\\n",
              "0   1     NATHANIEL FORD  GENERAL MANAGER-METROPOLITAN TRANSIT AUTHORITY   \n",
              "1   2       GARY JIMENEZ                 CAPTAIN III (POLICE DEPARTMENT)   \n",
              "2   3     ALBERT PARDINI                 CAPTAIN III (POLICE DEPARTMENT)   \n",
              "3   4  CHRISTOPHER CHONG            WIRE ROPE CABLE MAINTENANCE MECHANIC   \n",
              "4   5    PATRICK GARDNER    DEPUTY CHIEF OF DEPARTMENT,(FIRE DEPARTMENT)   \n",
              "\n",
              "     BasePay  OvertimePay   OtherPay  Benefits   TotalPay  TotalPayBenefits  \\\n",
              "0  167411.18         0.00  400184.25       NaN  567595.43         567595.43   \n",
              "1  155966.02    245131.88  137811.38       NaN  538909.28         538909.28   \n",
              "2  212739.13    106088.18   16452.60       NaN  335279.91         335279.91   \n",
              "3   77916.00     56120.71  198306.90       NaN  332343.61         332343.61   \n",
              "4  134401.60      9737.00  182234.59       NaN  326373.19         326373.19   \n",
              "\n",
              "   Year  Notes         Agency  Status  \n",
              "0  2011    NaN  San Francisco     NaN  \n",
              "1  2011    NaN  San Francisco     NaN  \n",
              "2  2011    NaN  San Francisco     NaN  \n",
              "3  2011    NaN  San Francisco     NaN  \n",
              "4  2011    NaN  San Francisco     NaN  "
            ],
            "text/html": [
              "\n",
              "  <div id=\"df-cd70fb78-5700-4719-8d6e-7b303a2bf192\" class=\"colab-df-container\">\n",
              "    <div>\n",
              "<style scoped>\n",
              "    .dataframe tbody tr th:only-of-type {\n",
              "        vertical-align: middle;\n",
              "    }\n",
              "\n",
              "    .dataframe tbody tr th {\n",
              "        vertical-align: top;\n",
              "    }\n",
              "\n",
              "    .dataframe thead th {\n",
              "        text-align: right;\n",
              "    }\n",
              "</style>\n",
              "<table border=\"1\" class=\"dataframe\">\n",
              "  <thead>\n",
              "    <tr style=\"text-align: right;\">\n",
              "      <th></th>\n",
              "      <th>Id</th>\n",
              "      <th>EmployeeName</th>\n",
              "      <th>JobTitle</th>\n",
              "      <th>BasePay</th>\n",
              "      <th>OvertimePay</th>\n",
              "      <th>OtherPay</th>\n",
              "      <th>Benefits</th>\n",
              "      <th>TotalPay</th>\n",
              "      <th>TotalPayBenefits</th>\n",
              "      <th>Year</th>\n",
              "      <th>Notes</th>\n",
              "      <th>Agency</th>\n",
              "      <th>Status</th>\n",
              "    </tr>\n",
              "  </thead>\n",
              "  <tbody>\n",
              "    <tr>\n",
              "      <th>0</th>\n",
              "      <td>1</td>\n",
              "      <td>NATHANIEL FORD</td>\n",
              "      <td>GENERAL MANAGER-METROPOLITAN TRANSIT AUTHORITY</td>\n",
              "      <td>167411.18</td>\n",
              "      <td>0.00</td>\n",
              "      <td>400184.25</td>\n",
              "      <td>NaN</td>\n",
              "      <td>567595.43</td>\n",
              "      <td>567595.43</td>\n",
              "      <td>2011</td>\n",
              "      <td>NaN</td>\n",
              "      <td>San Francisco</td>\n",
              "      <td>NaN</td>\n",
              "    </tr>\n",
              "    <tr>\n",
              "      <th>1</th>\n",
              "      <td>2</td>\n",
              "      <td>GARY JIMENEZ</td>\n",
              "      <td>CAPTAIN III (POLICE DEPARTMENT)</td>\n",
              "      <td>155966.02</td>\n",
              "      <td>245131.88</td>\n",
              "      <td>137811.38</td>\n",
              "      <td>NaN</td>\n",
              "      <td>538909.28</td>\n",
              "      <td>538909.28</td>\n",
              "      <td>2011</td>\n",
              "      <td>NaN</td>\n",
              "      <td>San Francisco</td>\n",
              "      <td>NaN</td>\n",
              "    </tr>\n",
              "    <tr>\n",
              "      <th>2</th>\n",
              "      <td>3</td>\n",
              "      <td>ALBERT PARDINI</td>\n",
              "      <td>CAPTAIN III (POLICE DEPARTMENT)</td>\n",
              "      <td>212739.13</td>\n",
              "      <td>106088.18</td>\n",
              "      <td>16452.60</td>\n",
              "      <td>NaN</td>\n",
              "      <td>335279.91</td>\n",
              "      <td>335279.91</td>\n",
              "      <td>2011</td>\n",
              "      <td>NaN</td>\n",
              "      <td>San Francisco</td>\n",
              "      <td>NaN</td>\n",
              "    </tr>\n",
              "    <tr>\n",
              "      <th>3</th>\n",
              "      <td>4</td>\n",
              "      <td>CHRISTOPHER CHONG</td>\n",
              "      <td>WIRE ROPE CABLE MAINTENANCE MECHANIC</td>\n",
              "      <td>77916.00</td>\n",
              "      <td>56120.71</td>\n",
              "      <td>198306.90</td>\n",
              "      <td>NaN</td>\n",
              "      <td>332343.61</td>\n",
              "      <td>332343.61</td>\n",
              "      <td>2011</td>\n",
              "      <td>NaN</td>\n",
              "      <td>San Francisco</td>\n",
              "      <td>NaN</td>\n",
              "    </tr>\n",
              "    <tr>\n",
              "      <th>4</th>\n",
              "      <td>5</td>\n",
              "      <td>PATRICK GARDNER</td>\n",
              "      <td>DEPUTY CHIEF OF DEPARTMENT,(FIRE DEPARTMENT)</td>\n",
              "      <td>134401.60</td>\n",
              "      <td>9737.00</td>\n",
              "      <td>182234.59</td>\n",
              "      <td>NaN</td>\n",
              "      <td>326373.19</td>\n",
              "      <td>326373.19</td>\n",
              "      <td>2011</td>\n",
              "      <td>NaN</td>\n",
              "      <td>San Francisco</td>\n",
              "      <td>NaN</td>\n",
              "    </tr>\n",
              "  </tbody>\n",
              "</table>\n",
              "</div>\n",
              "    <div class=\"colab-df-buttons\">\n",
              "\n",
              "  <div class=\"colab-df-container\">\n",
              "    <button class=\"colab-df-convert\" onclick=\"convertToInteractive('df-cd70fb78-5700-4719-8d6e-7b303a2bf192')\"\n",
              "            title=\"Convert this dataframe to an interactive table.\"\n",
              "            style=\"display:none;\">\n",
              "\n",
              "  <svg xmlns=\"http://www.w3.org/2000/svg\" height=\"24px\" viewBox=\"0 -960 960 960\">\n",
              "    <path d=\"M120-120v-720h720v720H120Zm60-500h600v-160H180v160Zm220 220h160v-160H400v160Zm0 220h160v-160H400v160ZM180-400h160v-160H180v160Zm440 0h160v-160H620v160ZM180-180h160v-160H180v160Zm440 0h160v-160H620v160Z\"/>\n",
              "  </svg>\n",
              "    </button>\n",
              "\n",
              "  <style>\n",
              "    .colab-df-container {\n",
              "      display:flex;\n",
              "      gap: 12px;\n",
              "    }\n",
              "\n",
              "    .colab-df-convert {\n",
              "      background-color: #E8F0FE;\n",
              "      border: none;\n",
              "      border-radius: 50%;\n",
              "      cursor: pointer;\n",
              "      display: none;\n",
              "      fill: #1967D2;\n",
              "      height: 32px;\n",
              "      padding: 0 0 0 0;\n",
              "      width: 32px;\n",
              "    }\n",
              "\n",
              "    .colab-df-convert:hover {\n",
              "      background-color: #E2EBFA;\n",
              "      box-shadow: 0px 1px 2px rgba(60, 64, 67, 0.3), 0px 1px 3px 1px rgba(60, 64, 67, 0.15);\n",
              "      fill: #174EA6;\n",
              "    }\n",
              "\n",
              "    .colab-df-buttons div {\n",
              "      margin-bottom: 4px;\n",
              "    }\n",
              "\n",
              "    [theme=dark] .colab-df-convert {\n",
              "      background-color: #3B4455;\n",
              "      fill: #D2E3FC;\n",
              "    }\n",
              "\n",
              "    [theme=dark] .colab-df-convert:hover {\n",
              "      background-color: #434B5C;\n",
              "      box-shadow: 0px 1px 3px 1px rgba(0, 0, 0, 0.15);\n",
              "      filter: drop-shadow(0px 1px 2px rgba(0, 0, 0, 0.3));\n",
              "      fill: #FFFFFF;\n",
              "    }\n",
              "  </style>\n",
              "\n",
              "    <script>\n",
              "      const buttonEl =\n",
              "        document.querySelector('#df-cd70fb78-5700-4719-8d6e-7b303a2bf192 button.colab-df-convert');\n",
              "      buttonEl.style.display =\n",
              "        google.colab.kernel.accessAllowed ? 'block' : 'none';\n",
              "\n",
              "      async function convertToInteractive(key) {\n",
              "        const element = document.querySelector('#df-cd70fb78-5700-4719-8d6e-7b303a2bf192');\n",
              "        const dataTable =\n",
              "          await google.colab.kernel.invokeFunction('convertToInteractive',\n",
              "                                                    [key], {});\n",
              "        if (!dataTable) return;\n",
              "\n",
              "        const docLinkHtml = 'Like what you see? Visit the ' +\n",
              "          '<a target=\"_blank\" href=https://colab.research.google.com/notebooks/data_table.ipynb>data table notebook</a>'\n",
              "          + ' to learn more about interactive tables.';\n",
              "        element.innerHTML = '';\n",
              "        dataTable['output_type'] = 'display_data';\n",
              "        await google.colab.output.renderOutput(dataTable, element);\n",
              "        const docLink = document.createElement('div');\n",
              "        docLink.innerHTML = docLinkHtml;\n",
              "        element.appendChild(docLink);\n",
              "      }\n",
              "    </script>\n",
              "  </div>\n",
              "\n",
              "\n",
              "<div id=\"df-981fefdd-71c0-45d4-8887-5051bd75169d\">\n",
              "  <button class=\"colab-df-quickchart\" onclick=\"quickchart('df-981fefdd-71c0-45d4-8887-5051bd75169d')\"\n",
              "            title=\"Suggest charts\"\n",
              "            style=\"display:none;\">\n",
              "\n",
              "<svg xmlns=\"http://www.w3.org/2000/svg\" height=\"24px\"viewBox=\"0 0 24 24\"\n",
              "     width=\"24px\">\n",
              "    <g>\n",
              "        <path d=\"M19 3H5c-1.1 0-2 .9-2 2v14c0 1.1.9 2 2 2h14c1.1 0 2-.9 2-2V5c0-1.1-.9-2-2-2zM9 17H7v-7h2v7zm4 0h-2V7h2v10zm4 0h-2v-4h2v4z\"/>\n",
              "    </g>\n",
              "</svg>\n",
              "  </button>\n",
              "\n",
              "<style>\n",
              "  .colab-df-quickchart {\n",
              "      --bg-color: #E8F0FE;\n",
              "      --fill-color: #1967D2;\n",
              "      --hover-bg-color: #E2EBFA;\n",
              "      --hover-fill-color: #174EA6;\n",
              "      --disabled-fill-color: #AAA;\n",
              "      --disabled-bg-color: #DDD;\n",
              "  }\n",
              "\n",
              "  [theme=dark] .colab-df-quickchart {\n",
              "      --bg-color: #3B4455;\n",
              "      --fill-color: #D2E3FC;\n",
              "      --hover-bg-color: #434B5C;\n",
              "      --hover-fill-color: #FFFFFF;\n",
              "      --disabled-bg-color: #3B4455;\n",
              "      --disabled-fill-color: #666;\n",
              "  }\n",
              "\n",
              "  .colab-df-quickchart {\n",
              "    background-color: var(--bg-color);\n",
              "    border: none;\n",
              "    border-radius: 50%;\n",
              "    cursor: pointer;\n",
              "    display: none;\n",
              "    fill: var(--fill-color);\n",
              "    height: 32px;\n",
              "    padding: 0;\n",
              "    width: 32px;\n",
              "  }\n",
              "\n",
              "  .colab-df-quickchart:hover {\n",
              "    background-color: var(--hover-bg-color);\n",
              "    box-shadow: 0 1px 2px rgba(60, 64, 67, 0.3), 0 1px 3px 1px rgba(60, 64, 67, 0.15);\n",
              "    fill: var(--button-hover-fill-color);\n",
              "  }\n",
              "\n",
              "  .colab-df-quickchart-complete:disabled,\n",
              "  .colab-df-quickchart-complete:disabled:hover {\n",
              "    background-color: var(--disabled-bg-color);\n",
              "    fill: var(--disabled-fill-color);\n",
              "    box-shadow: none;\n",
              "  }\n",
              "\n",
              "  .colab-df-spinner {\n",
              "    border: 2px solid var(--fill-color);\n",
              "    border-color: transparent;\n",
              "    border-bottom-color: var(--fill-color);\n",
              "    animation:\n",
              "      spin 1s steps(1) infinite;\n",
              "  }\n",
              "\n",
              "  @keyframes spin {\n",
              "    0% {\n",
              "      border-color: transparent;\n",
              "      border-bottom-color: var(--fill-color);\n",
              "      border-left-color: var(--fill-color);\n",
              "    }\n",
              "    20% {\n",
              "      border-color: transparent;\n",
              "      border-left-color: var(--fill-color);\n",
              "      border-top-color: var(--fill-color);\n",
              "    }\n",
              "    30% {\n",
              "      border-color: transparent;\n",
              "      border-left-color: var(--fill-color);\n",
              "      border-top-color: var(--fill-color);\n",
              "      border-right-color: var(--fill-color);\n",
              "    }\n",
              "    40% {\n",
              "      border-color: transparent;\n",
              "      border-right-color: var(--fill-color);\n",
              "      border-top-color: var(--fill-color);\n",
              "    }\n",
              "    60% {\n",
              "      border-color: transparent;\n",
              "      border-right-color: var(--fill-color);\n",
              "    }\n",
              "    80% {\n",
              "      border-color: transparent;\n",
              "      border-right-color: var(--fill-color);\n",
              "      border-bottom-color: var(--fill-color);\n",
              "    }\n",
              "    90% {\n",
              "      border-color: transparent;\n",
              "      border-bottom-color: var(--fill-color);\n",
              "    }\n",
              "  }\n",
              "</style>\n",
              "\n",
              "  <script>\n",
              "    async function quickchart(key) {\n",
              "      const quickchartButtonEl =\n",
              "        document.querySelector('#' + key + ' button');\n",
              "      quickchartButtonEl.disabled = true;  // To prevent multiple clicks.\n",
              "      quickchartButtonEl.classList.add('colab-df-spinner');\n",
              "      try {\n",
              "        const charts = await google.colab.kernel.invokeFunction(\n",
              "            'suggestCharts', [key], {});\n",
              "      } catch (error) {\n",
              "        console.error('Error during call to suggestCharts:', error);\n",
              "      }\n",
              "      quickchartButtonEl.classList.remove('colab-df-spinner');\n",
              "      quickchartButtonEl.classList.add('colab-df-quickchart-complete');\n",
              "    }\n",
              "    (() => {\n",
              "      let quickchartButtonEl =\n",
              "        document.querySelector('#df-981fefdd-71c0-45d4-8887-5051bd75169d button');\n",
              "      quickchartButtonEl.style.display =\n",
              "        google.colab.kernel.accessAllowed ? 'block' : 'none';\n",
              "    })();\n",
              "  </script>\n",
              "</div>\n",
              "\n",
              "    </div>\n",
              "  </div>\n"
            ]
          },
          "metadata": {},
          "execution_count": 1
        }
      ]
    },
    {
      "cell_type": "code",
      "source": [
        "df.columns"
      ],
      "metadata": {
        "colab": {
          "base_uri": "https://localhost:8080/"
        },
        "id": "xIT514wlvvBZ",
        "outputId": "c0149087-a8d5-4d48-ea78-a0ab4b52b174"
      },
      "execution_count": null,
      "outputs": [
        {
          "output_type": "execute_result",
          "data": {
            "text/plain": [
              "Index(['Id', 'EmployeeName', 'JobTitle', 'BasePay', 'OvertimePay', 'OtherPay',\n",
              "       'Benefits', 'TotalPay', 'TotalPayBenefits', 'Year', 'Notes', 'Agency',\n",
              "       'Status'],\n",
              "      dtype='object')"
            ]
          },
          "metadata": {},
          "execution_count": 2
        }
      ]
    },
    {
      "cell_type": "markdown",
      "source": [
        "**Task 1**"
      ],
      "metadata": {
        "id": "wP4peOI4_3d0"
      }
    },
    {
      "cell_type": "code",
      "source": [
        "def data_exploration(df):\n",
        "  #Number of rows and columns\n",
        "  num_rows,num_columns=df.shape\n",
        "  print(\"Number of rows is : \",num_rows ,\"& Number of columns is : \",num_columns)\n",
        "  print(\"------------------*****------------------------\")\n",
        "  # Determine the data types of each column\n",
        "  print(\"Data types for each column :\\n\",df.dtypes)\n",
        "  print(\"------------------*****------------------------\")\n",
        "  #missing values\n",
        "  print(\"Missing Values: \\n\",df.isnull().sum())\n",
        "data_exploration(df)"
      ],
      "metadata": {
        "id": "j64xtnHBhEQD",
        "colab": {
          "base_uri": "https://localhost:8080/"
        },
        "outputId": "10c63c4d-8920-4b6f-d8e6-f62028fd848f"
      },
      "execution_count": 18,
      "outputs": [
        {
          "output_type": "stream",
          "name": "stdout",
          "text": [
            "Number of rows is :  148654 & Number of columns is :  13\n",
            "------------------*****------------------------\n",
            "Data types for each column :\n",
            " Id                    int64\n",
            "EmployeeName         object\n",
            "JobTitle             object\n",
            "BasePay             float64\n",
            "OvertimePay         float64\n",
            "OtherPay            float64\n",
            "Benefits            float64\n",
            "TotalPay            float64\n",
            "TotalPayBenefits    float64\n",
            "Year                  int64\n",
            "Notes               float64\n",
            "Agency               object\n",
            "Status              float64\n",
            "dtype: object\n",
            "------------------*****------------------------\n",
            "Missing Values: \n",
            " Id                       0\n",
            "EmployeeName             0\n",
            "JobTitle                 0\n",
            "BasePay                609\n",
            "OvertimePay              4\n",
            "OtherPay                 4\n",
            "Benefits             36163\n",
            "TotalPay                 0\n",
            "TotalPayBenefits         0\n",
            "Year                     0\n",
            "Notes               148654\n",
            "Agency                   0\n",
            "Status              148654\n",
            "dtype: int64\n"
          ]
        }
      ]
    },
    {
      "cell_type": "markdown",
      "source": [
        "**Task 2**"
      ],
      "metadata": {
        "id": "zy7SM4Ql_vXw"
      }
    },
    {
      "cell_type": "code",
      "source": [
        "def descriptive_statistics(df):\n",
        "  mean_salary=df['TotalPayBenefits'].mean()\n",
        "  median_salary=df['TotalPayBenefits'].median()\n",
        "  mode_salary=df['TotalPayBenefits'].mode()[0]\n",
        "  min_salary=df['TotalPayBenefits'].min()\n",
        "  max_salary=df['TotalPayBenefits'].max()\n",
        "  range = max_salary - min_salary\n",
        "  std_salary = df['TotalPayBenefits'].std()\n",
        "  print(\" mean of salary= \", mean_salary, '\\n', 'median of salary = ', median_salary, '\\n', 'mode salary is : ', mode_salary)\n",
        "  print( ' min salry = ', min_salary, '\\n','max salary = ',max_salary,'\\n','range of salaries = ',range,'\\n','standard deviasion =',std_salary)\n",
        "descriptive_statistics(df)"
      ],
      "metadata": {
        "colab": {
          "base_uri": "https://localhost:8080/"
        },
        "id": "IqLQCvXqQ0U7",
        "outputId": "97a80381-ccc7-4b09-b3db-c91db3764ed6"
      },
      "execution_count": 19,
      "outputs": [
        {
          "output_type": "stream",
          "name": "stdout",
          "text": [
            " mean of salary=  93692.55481056681 \n",
            " median of salary =  92404.09 \n",
            " mode salary is :  7959.18\n",
            " min salry =  -618.13 \n",
            " max salary =  567595.43 \n",
            " range of salaries =  568213.56 \n",
            " standard deviasion = 62793.533483237705\n"
          ]
        }
      ]
    },
    {
      "cell_type": "code",
      "source": [
        "df.isnull().sum()"
      ],
      "metadata": {
        "colab": {
          "base_uri": "https://localhost:8080/"
        },
        "id": "YtLfq8JYn4v2",
        "outputId": "8ca71565-dd01-4820-d3e9-21cd34530cc7"
      },
      "execution_count": 17,
      "outputs": [
        {
          "output_type": "execute_result",
          "data": {
            "text/plain": [
              "Id                       0\n",
              "EmployeeName             0\n",
              "JobTitle                 0\n",
              "BasePay                609\n",
              "OvertimePay              4\n",
              "OtherPay                 4\n",
              "Benefits             36163\n",
              "TotalPay                 0\n",
              "TotalPayBenefits         0\n",
              "Year                     0\n",
              "Notes               148654\n",
              "Agency                   0\n",
              "Status              148654\n",
              "dtype: int64"
            ]
          },
          "metadata": {},
          "execution_count": 17
        }
      ]
    },
    {
      "cell_type": "markdown",
      "source": [
        "**Task 3 **"
      ],
      "metadata": {
        "id": "HEBoeKDn_7Ag"
      }
    },
    {
      "cell_type": "code",
      "source": [
        "#we will deal with missing values based on each column ans its nature\n",
        "# so  in columns BasePay, OvertimePay, OtherPay , missing values aren't much so we will remove it\n",
        "# but, in benefits we have 36163 nulls, so we can't remve it so we will impute this column\n",
        "# As for notes and status these 2 columns aren't critical so we can drop these 2 columns\n",
        "def cleaning(df):\n",
        "  # Remove rows with missing values in BasePay, OvertimePay, OtherPay\n",
        "  df.dropna(subset=['BasePay', 'OvertimePay', 'OtherPay'], inplace=True)\n",
        "\n",
        "  # Impute missing values in Benefits with the mean\n",
        "\n",
        "  df['Benefits'].fillna(df['Benefits'].mean(), inplace=True)\n",
        "\n",
        "  # Drop Notes and Status columns\n",
        "  df.drop(['Notes', 'Status'], axis=1, inplace=True)"
      ],
      "metadata": {
        "id": "c3cWenXZopKO"
      },
      "execution_count": 5,
      "outputs": []
    },
    {
      "cell_type": "markdown",
      "source": [
        "**Task 4 **"
      ],
      "metadata": {
        "id": "uSJxpCJV_9qZ"
      }
    },
    {
      "cell_type": "code",
      "source": [
        "# Create a histogram of salaries\n",
        "plt.hist(df['TotalPayBenefits'], bins=10, edgecolor='black')\n",
        "plt.xlabel('Salary')\n",
        "plt.ylabel('Frequency')\n",
        "plt.title('Distribution of Salaries')\n",
        "plt.show()\n",
        "\n",
        "# Create a bar chart of department proportions\n",
        "department_counts = df['Agency'].value_counts()\n",
        "plt.figure(figsize=(8, 6))\n",
        "plt.pie(department_counts, labels=department_counts.index, autopct='%1.1f%%')\n",
        "plt.title('Proportion of Employees in Different Departments')\n",
        "plt.show()"
      ],
      "metadata": {
        "colab": {
          "base_uri": "https://localhost:8080/",
          "height": 976
        },
        "id": "n34bLWfvqu7B",
        "outputId": "12292613-df3d-46a8-ee70-d3e7b51d696f"
      },
      "execution_count": 6,
      "outputs": [
        {
          "output_type": "display_data",
          "data": {
            "text/plain": [
              "<Figure size 640x480 with 1 Axes>"
            ],
            "image/png": "[encoded data removed]"
          },
          "metadata": {}
        },
        {
          "output_type": "display_data",
          "data": {
            "text/plain": [
              "<Figure size 800x600 with 1 Axes>"
            ],
            "image/png": "[encoded data removed]"
          },
          "metadata": {}
        }
      ]
    },
    {
      "cell_type": "markdown",
      "source": [
        "**Task 5**"
      ],
      "metadata": {
        "id": "UcjvdKECABHo"
      }
    },
    {
      "cell_type": "code",
      "source": [
        "grouped_data = df.groupby(['JobTitle', 'Year']).agg({'BasePay': 'mean', 'TotalPay': 'mean'})\n",
        "\n",
        "# Print the summary statistics for each group\n",
        "print(grouped_data)\n",
        "\n",
        "# Compare average salaries across different groups\n",
        "average_salaries = df.groupby('JobTitle')['BasePay'].mean()\n",
        "print(average_salaries)"
      ],
      "metadata": {
        "colab": {
          "base_uri": "https://localhost:8080/"
        },
        "id": "cWyd3_1a5cks",
        "outputId": "7584ffd4-e407-4c99-f93b-4267fe52b1fc"
      },
      "execution_count": 7,
      "outputs": [
        {
          "output_type": "stream",
          "name": "stdout",
          "text": [
            "                                                          BasePay  \\\n",
            "JobTitle                                       Year                 \n",
            "ACCOUNT CLERK                                  2011  43300.806506   \n",
            "ACCOUNTANT                                     2011  46643.172000   \n",
            "ACCOUNTANT INTERN                              2011  28732.663958   \n",
            "ACPO,JuvP, Juv Prob (SFERS)                    2014  62290.780000   \n",
            "ACUPUNCTURIST                                  2011  66374.400000   \n",
            "...                                                           ...   \n",
            "YOUTH COMMISSION ADVISOR, BOARD OF SUPERVISORS 2011  52609.910000   \n",
            "Youth Comm Advisor                             2012  57544.730000   \n",
            "                                               2013  33174.840000   \n",
            "                                               2014  32417.420000   \n",
            "ZOO CURATOR                                    2011  43148.000000   \n",
            "\n",
            "                                                         TotalPay  \n",
            "JobTitle                                       Year                \n",
            "ACCOUNT CLERK                                  2011  44035.664337  \n",
            "ACCOUNTANT                                     2011  47429.268000  \n",
            "ACCOUNTANT INTERN                              2011  29031.742917  \n",
            "ACPO,JuvP, Juv Prob (SFERS)                    2014  62290.780000  \n",
            "ACUPUNCTURIST                                  2011  67594.400000  \n",
            "...                                                           ...  \n",
            "YOUTH COMMISSION ADVISOR, BOARD OF SUPERVISORS 2011  53632.870000  \n",
            "Youth Comm Advisor                             2012  57544.730000  \n",
            "                                               2013  35823.295000  \n",
            "                                               2014  36465.910000  \n",
            "ZOO CURATOR                                    2011  66686.560000  \n",
            "\n",
            "[4137 rows x 2 columns]\n",
            "JobTitle\n",
            "ACCOUNT CLERK                                     43300.806506\n",
            "ACCOUNTANT                                        46643.172000\n",
            "ACCOUNTANT INTERN                                 28732.663958\n",
            "ACPO,JuvP, Juv Prob (SFERS)                       62290.780000\n",
            "ACUPUNCTURIST                                     66374.400000\n",
            "                                                      ...     \n",
            "X-RAY LABORATORY AIDE                             47664.773077\n",
            "X-Ray Laboratory Aide                             46086.387100\n",
            "YOUTH COMMISSION ADVISOR, BOARD OF SUPERVISORS    52609.910000\n",
            "Youth Comm Advisor                                39077.957500\n",
            "ZOO CURATOR                                       43148.000000\n",
            "Name: BasePay, Length: 2159, dtype: float64\n"
          ]
        }
      ]
    },
    {
      "cell_type": "markdown",
      "source": [
        "**Task 6 **"
      ],
      "metadata": {
        "id": "vGSz1ce3AD_s"
      }
    },
    {
      "cell_type": "code",
      "source": [
        "corr=df['TotalPay'].corr(df['OvertimePay'])\n",
        "print(\"Correlation between Total pay and over time pay: \", corr)\n",
        "plt.scatter(df['OvertimePay'],df['TotalPay'])\n",
        "plt.xlabel('Over time pay')\n",
        "plt.ylabel(\"Total pay\")\n",
        "plt.title(\"Relation between total pay AND over time\")\n",
        "plt.show()"
      ],
      "metadata": {
        "colab": {
          "base_uri": "https://localhost:8080/",
          "height": 489
        },
        "id": "vd_RA1-r6hHg",
        "outputId": "f798a521-1beb-45ef-d65f-e215daefab8d"
      },
      "execution_count": 13,
      "outputs": [
        {
          "output_type": "stream",
          "name": "stdout",
          "text": [
            "Correlation between Total pay and over time pay:  0.5048588704522461\n"
          ]
        },
        {
          "output_type": "display_data",
          "data": {
            "text/plain": [
              "<Figure size 640x480 with 1 Axes>"
            ],
            "image/png": "[encoded data removed]"
          },
          "metadata": {}
        }
      ]
    },
    {
      "cell_type": "markdown",
      "source": [
        "**Task 7 **"
      ],
      "metadata": {
        "id": "UbTQObTLAL4G"
      }
    },
    {
      "cell_type": "code",
      "source": [
        "\"\"\"\n",
        "From Analysis wi find that All Employes located in san fransisco and over time and other pay influence in total pay\n",
        "\"\"\""
      ],
      "metadata": {
        "colab": {
          "base_uri": "https://localhost:8080/",
          "height": 35
        },
        "id": "T5onizNR-0rg",
        "outputId": "1b6ac3e7-123a-477a-84e1-24041bbb3085"
      },
      "execution_count": 20,
      "outputs": [
        {
          "output_type": "execute_result",
          "data": {
            "text/plain": [
              "'\\nFrom Analysis wi find that All Employes located in san fransisco and over time and other pay influence in total pay \\n'"
            ],
            "application/vnd.google.colaboratory.intrinsic+json": {
              "type": "string"
            }
          },
          "metadata": {},
          "execution_count": 20
        }
      ]
    },
    {
      "cell_type": "markdown",
      "source": [
        "# Good Luck!"
      ],
      "metadata": {
        "id": "HE9jbRjcUyoX"
      }
    }
  ]
}